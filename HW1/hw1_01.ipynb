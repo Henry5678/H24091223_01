{
 "cells": [
  {
   "cell_type": "code",
   "execution_count": 1,
   "metadata": {
    "scrolled": false
   },
   "outputs": [
    {
     "name": "stdout",
     "output_type": "stream",
     "text": [
      "Top‐3 movies with the highest ratings in 2016\n"
     ]
    },
    {
     "data": {
      "text/plain": [
       "2             Dangal\n",
       "4      Kimi no na wa\n",
       "15    Koe no katachi\n",
       "Name: Title, dtype: object"
      ]
     },
     "execution_count": 1,
     "metadata": {},
     "output_type": "execute_result"
    }
   ],
   "source": [
    "#1\n",
    "import pandas as pd\n",
    "import numpy as np\n",
    "df = pd.read_csv (r'D:\\計概考試\\IMDB-Movie-Data.csv')\n",
    "#print (df)\n",
    "fliter = (df[\"Year\"] == 2016)\n",
    "print(\"Top‐3 movies with the highest ratings in 2016\")\n",
    "df[fliter].nlargest(3,'Rating')[\"Title\"]"
   ]
  },
  {
   "cell_type": "code",
   "execution_count": 58,
   "metadata": {},
   "outputs": [
    {
     "name": "stdout",
     "output_type": "stream",
     "text": [
      "The actor generating the highest average revenue\n",
      "Daisy Ridley    936.63\n",
      "John Boyega     936.63\n",
      "dtype: float64\n"
     ]
    }
   ],
   "source": [
    "#2\n",
    "atr_list=[]\n",
    "rev=[]\n",
    "for i in range(len(df)):\n",
    "    atr=df.iloc[i][\"Actors\"].split(\"|\")\n",
    "    for j in atr:\n",
    "        if df.iloc[i][\"Revenue (Millions)\"]!=\"\":\n",
    "            atr_list.append(j.lstrip())\n",
    "            rev.append(float(df.iloc[i][\"Revenue (Millions)\"]))\n",
    "        elif df.iloc[i][\"Revenue (Millions)\"]==\"\":\n",
    "            atr_list.append(j.lstrip())\n",
    "            rev.append(0)\n",
    "ser=pd.Series(rev,index=atr_list)\n",
    "ser_g_m=ser.groupby(by=atr_list).mean()\n",
    "ser_g_md=ser_g_m.dropna()\n",
    "ser_g_mds=ser_g_md.sort_values(ascending=False)\n",
    "a=1\n",
    "for k in range(len(ser_g_mds)):\n",
    "    if ser_g_mds.values[k]==ser_g_mds.values[k+1]:\n",
    "        a=a+1\n",
    "    elif ser_g_mds.values[k]!=ser_g_mds.values[k+1]:\n",
    "        break;            \n",
    "print(\"The actor generating the highest average revenue\")\n",
    "print(ser_g_mds.head(a))"
   ]
  },
  {
   "cell_type": "code",
   "execution_count": 63,
   "metadata": {},
   "outputs": [
    {
     "name": "stdout",
     "output_type": "stream",
     "text": [
      "The average rating of Emma Watson’s movies:7.175\n"
     ]
    }
   ],
   "source": [
    "#3\n",
    "atr_list=[]\n",
    "rat=[]\n",
    "for i in range(len(df)):\n",
    "    atr=df.iloc[i][\"Actors\"].split(\"|\")\n",
    "    for j in atr:\n",
    "        if df.iloc[i][\"Rating\"]!=\"\":\n",
    "            atr_list.append(j.lstrip())\n",
    "            rat.append(float(df.iloc[i][\"Rating\"]))\n",
    "        elif df.iloc[i][\"Rating\"]==\"\":\n",
    "            atr_list.append(j.lstrip())\n",
    "            rat.append(0)\n",
    "ser=pd.Series(rat,index=atr_list)\n",
    "ser_g_m=ser.groupby(by=atr_list).mean()\n",
    "ser_g_md=ser_g_m.dropna()\n",
    "print(\"The average rating of Emma Watson’s movies:%.3f\"%(ser_g_md[\"Emma Watson\"]))"
   ]
  },
  {
   "cell_type": "code",
   "execution_count": 91,
   "metadata": {},
   "outputs": [
    {
     "name": "stdout",
     "output_type": "stream",
     "text": [
      "Top-3 directors who collaborate with the most actors\n",
      "1st:['Jason Friedberg', 1985]\n",
      "2nd:['James Wong', 1982]\n",
      "3rd:['Shawn Burkett', 1978]\n"
     ]
    }
   ],
   "source": [
    "#4\n",
    "atr_list=[]\n",
    "dir_list=[]\n",
    "acdr={}\n",
    "#for i in range(len(df)):\n",
    "#    atr=df.iloc[i][\"Actors\"].split(\"|\")\n",
    "#    for j in atr:\n",
    "#        atr_list.append(j.lstrip())\n",
    "#print(atr_list)\n",
    "for i in range(len(df)):\n",
    "    dir_list.append(df.iloc[i][\"Director\"])\n",
    "oridir=list(set(dir_list))\n",
    "oridir1=sorted(oridir,key=dir_list.index)\n",
    "#print(oridir1)\n",
    "for i in oridir1:\n",
    "    acdr[i]=set()\n",
    "for i in range(len(df)):\n",
    "    atr=df.iloc[i][\"Actors\"].split(\"|\")\n",
    "    a=acdr[str(df.iloc[i][\"Director\"])]\n",
    "    for j in atr:\n",
    "        atr_list.append(j.lstrip())\n",
    "    a=set(a)|set(atr_list)\n",
    "    acdr[df.iloc[i][\"Director\"]]=a\n",
    "acdr1=[0,0]#[name,total]\n",
    "acdr2=[0,0]\n",
    "acdr3=[0,0]           \n",
    "for i in oridir1:\n",
    "    b=acdr[i]\n",
    "    num=len(b)                \n",
    "    if num>acdr1[1]:\n",
    "        acdr3=acdr2\n",
    "        acdr2=acdr1\n",
    "        acdr1=[i,num]\n",
    "    elif num>acdr2[1]:\n",
    "        acdr3=acdr2\n",
    "        acdr2=[i,num]\n",
    "    elif num>acdr3[1]:\n",
    "        acdr3=[i,num]\n",
    "ans=[]\n",
    "for i in oridir1:\n",
    "    b=acdr[i]\n",
    "    num=len(b)\n",
    "    if num==acdr3[1] and i!=acdr1[0] and i!=acdr2[0] and i!=acdr3[0]:\n",
    "        ans.append(i)\n",
    "print(\"Top-3 directors who collaborate with the most actors\\n1st:%s\\n2nd:%s\\n3rd:%s\"%(acdr1,acdr2,acdr3))\n",
    "if ans!=[]:\n",
    "    print(\"並列:\",ans)        "
   ]
  },
  {
   "cell_type": "code",
   "execution_count": null,
   "metadata": {},
   "outputs": [],
   "source": [
    "#5\n",
    "atr_list=[]\n",
    "genatr={}\n",
    "for i in range(len(df)):\n",
    "    atr=df.iloc[i][\"Actors\"].split(\"|\")\n",
    "    for j in atr:\n",
    "        atr_list.append(j.lstrip())\n",
    "for i in atr_list:\n",
    "    genatr[i]=set()\n",
    "for i in range(len(df)):\n",
    "    atr=df.iloc[i][\"Actors\"].split(\"|\")\n",
    "    for j in atr:\n",
    "        atr_list.append(j.lstrip())\n",
    "    gen=df.iloc[i][\"Genre\"].split(\"|\")\n",
    "    atr_list1=[]\n",
    "    for k in atr_list:\n",
    "        a=genatr[k]\n",
    "        a=a|set(gen)\n",
    "        genatr[k]=a\n",
    "gen1=[0,0]\n",
    "gen2=[0,0]\n",
    "for i in atr_list:\n",
    "    b=genatr[i]\n",
    "    num=len(b)\n",
    "    if num>gen1[1]:\n",
    "        gen2=gen1\n",
    "        gen1=[i,num]\n",
    "    elif num>gen2[1]:\n",
    "        gen2=[i,num]\n",
    "ans=[]\n",
    "for i in genatr:\n",
    "    b=genatr[i]\n",
    "    num=len(b)\n",
    "    if num==gen2[1] and i!=gen1[0] and i!=gen2[0]:\n",
    "        ans.append(i)\n",
    "print(\"Top-2 actors playing in the most genres of movies:\\n1st:%s\\n2nd:%s\"%(gen1,gen2))\n",
    "if ans!=[]:\n",
    "    print(\"並列:\",ans)"
   ]
  },
  {
   "cell_type": "code",
   "execution_count": null,
   "metadata": {},
   "outputs": [],
   "source": [
    "#6\n",
    "atr_list=[]\n",
    "year={}\n",
    "for i in range(len(df)):\n",
    "    atr=df.iloc[i][\"Actors\"].split(\"|\")\n",
    "    for j in atr:\n",
    "        atr_list.append(j.lstrip())\n",
    "for i in atr_list:\n",
    "    year[i]=[0,3000]\n",
    "for i in range(len(df)):\n",
    "    atr=df.iloc[i][\"Actors\"].split(\"|\")\n",
    "    y=df.iloc[i][\"Year\"]\n",
    "    for j in atr:\n",
    "        atr_list.append(j.lstrip())\n",
    "        for k in atr_list:\n",
    "            a=year[k]\n",
    "            if int(y)>a[0]:\n",
    "                a[0]=int(y)\n",
    "            elif int(y)<a[1]:\n",
    "                a[1]=int(y)\n",
    "            year[k]=a\n",
    "gap1=[0,0]\n",
    "gap2=[0,0]\n",
    "gap3=[0,0]\n",
    "for i in atr_list:\n",
    "    b=year[i]\n",
    "    con=b[0]-b[1]              \n",
    "    if con>gap1[1]:\n",
    "        gap3=gap2\n",
    "        gap2=gap1\n",
    "        gap1=[i,con]\n",
    "    elif con>gap2[1]:\n",
    "        gap3=gap2\n",
    "        gap2=[i,con]\n",
    "    elif con>gap3[1]:\n",
    "        gap3=[i,con]\n",
    "ans=[]            \n",
    "for i in year:\n",
    "    b=year[i]\n",
    "    con=b[0]-b[1]\n",
    "    if con==gap3[1] and i!=gap1[0] and i!=gap2[0] and i!=gap3[0]:\n",
    "        ans.append(i)\n",
    "print(\"Top-3 actors whose movies lead to the largest maximum gap of years:\\n1st:%s\\n2nd:%s\\n3rd:%s\"%(gap1,gap2,gap3))       \n",
    "if ans!=[]:\n",
    "    print(\"並列:\",ans)"
   ]
  },
  {
   "cell_type": "code",
   "execution_count": null,
   "metadata": {},
   "outputs": [],
   "source": [
    "#7\n",
    "jd=set([\"Johnny Depp\"])\n",
    "atr_list=[]\n",
    "def fdi(jd):\n",
    "    for i in range(len(df)):\n",
    "        atr=df.iloc[i][\"Actors\"].split(\"|\")\n",
    "        for j in atr:\n",
    "            atr_list.append(j.lstrip())\n",
    "        for k in atr_list:\n",
    "            if k in jd:\n",
    "                jd=jd|set(atr_list)\n",
    "    return jd\n",
    "leng=len(jd)\n",
    "while leng!=len(fdi(jd)):\n",
    "    leng=len(fdi(jd))\n",
    "    jd=fdi(jd)\n",
    "print(\"All actors who collaborate with Johnny Depp in direct and indirect ways:\",jd)"
   ]
  },
  {
   "cell_type": "code",
   "execution_count": null,
   "metadata": {},
   "outputs": [],
   "source": []
  }
 ],
 "metadata": {
  "kernelspec": {
   "display_name": "Python 3",
   "language": "python",
   "name": "python3"
  },
  "language_info": {
   "codemirror_mode": {
    "name": "ipython",
    "version": 3
   },
   "file_extension": ".py",
   "mimetype": "text/x-python",
   "name": "python",
   "nbconvert_exporter": "python",
   "pygments_lexer": "ipython3",
   "version": "3.7.4"
  }
 },
 "nbformat": 4,
 "nbformat_minor": 2
}
